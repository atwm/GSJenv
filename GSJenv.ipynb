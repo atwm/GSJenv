{
 "cells": [
  {
   "cell_type": "code",
   "execution_count": 2,
   "id": "ccbbd337-fb71-4061-98f5-da569bb537b4",
   "metadata": {},
   "outputs": [
    {
     "name": "stdout",
     "output_type": "stream",
     "text": [
      "Hello, world!\n"
     ]
    }
   ],
   "source": [
    "def hello():\n",
    "    print(\"Hello, world!\")\n",
    "hello()"
   ]
  },
  {
   "cell_type": "markdown",
   "id": "a3c10d10-ed59-4f53-a43d-c2513aa8fde5",
   "metadata": {},
   "source": [
    "# Hello function\n",
    "\n",
    "The `hello` function takes no arguments and print the the words \"Hello, world!\" to the screen"
   ]
  },
  {
   "cell_type": "code",
   "execution_count": null,
   "id": "97ad471d-b2e0-4d35-b52b-d80d70a7587f",
   "metadata": {},
   "outputs": [],
   "source": []
  }
 ],
 "metadata": {
  "kernelspec": {
   "display_name": "Python 3 (ipykernel)",
   "language": "python",
   "name": "python3"
  },
  "language_info": {
   "codemirror_mode": {
    "name": "ipython",
    "version": 3
   },
   "file_extension": ".py",
   "mimetype": "text/x-python",
   "name": "python",
   "nbconvert_exporter": "python",
   "pygments_lexer": "ipython3",
   "version": "3.12.0"
  }
 },
 "nbformat": 4,
 "nbformat_minor": 5
}
